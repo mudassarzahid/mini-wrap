{
 "cells": [
  {
   "cell_type": "code",
   "execution_count": 4,
   "metadata": {},
   "outputs": [],
   "source": [
    "from spotify import get_recent_tracks\n",
    "from spotify import extract_songs_artists_images\n",
    "from spotify import get_all_data\n",
    "from spotify import make_recently_played_request\n",
    "from spotify import get_dates\n",
    "from spotify import extract_date"
   ]
  },
  {
   "cell_type": "code",
   "execution_count": 2,
   "metadata": {},
   "outputs": [],
   "source": [
    "tracks = get_all_data()"
   ]
  },
  {
   "cell_type": "code",
   "execution_count": 3,
   "metadata": {},
   "outputs": [
    {
     "name": "stdout",
     "output_type": "stream",
     "text": [
      "Zen (with K.Flay & grandson)\n",
      "Sway With Me (with GALXARA)\n",
      "alright\n",
      "Zen (with K.Flay & grandson)\n",
      "Sway With Me (with GALXARA)\n",
      "alright\n",
      "Zen (with K.Flay & grandson)\n",
      "Sway With Me (with GALXARA)\n",
      "alright\n",
      "Zen (with K.Flay & grandson)\n",
      "Sway With Me (with GALXARA)\n",
      "alright\n",
      "Zen (with K.Flay & grandson)\n",
      "Sway With Me (with GALXARA)\n",
      "alright\n",
      "Zen (with K.Flay & grandson)\n",
      "Sway With Me (with GALXARA)\n",
      "alright\n",
      "Zen (with K.Flay & grandson)\n",
      "Sway With Me (with GALXARA)\n",
      "alright\n",
      "Sway With Me (with GALXARA)\n",
      "alright\n",
      "Zen (with K.Flay & grandson)\n",
      "Sway With Me (with GALXARA)\n",
      "alright\n",
      "alright\n",
      "alright\n",
      "alright\n",
      "Happy Pill\n"
     ]
    }
   ],
   "source": [
    "for i in tracks['items']:\n",
    "    print(i['track']['name'])"
   ]
  },
  {
   "cell_type": "code",
   "execution_count": 4,
   "metadata": {},
   "outputs": [
    {
     "name": "stdout",
     "output_type": "stream",
     "text": [
      "Zen (with K.Flay & grandson) X Ambassadors K.Flay grandson \n",
      "Sway With Me (with GALXARA) Saweetie GALXARA \n",
      "alright Rad Cat Dutch Melrose \n",
      "Zen (with K.Flay & grandson) X Ambassadors K.Flay grandson \n",
      "Sway With Me (with GALXARA) Saweetie GALXARA \n",
      "alright Rad Cat Dutch Melrose \n",
      "Zen (with K.Flay & grandson) X Ambassadors K.Flay grandson \n",
      "Sway With Me (with GALXARA) Saweetie GALXARA \n",
      "alright Rad Cat Dutch Melrose \n",
      "Zen (with K.Flay & grandson) X Ambassadors K.Flay grandson \n"
     ]
    }
   ],
   "source": [
    "for i in tracks['items']:\n",
    "    print(i['track']['name'], end = \" \")\n",
    "    for j in i['track']['artists']:\n",
    "        print(j['name'], end = \" \")\n",
    "    print()"
   ]
  },
  {
   "cell_type": "code",
   "execution_count": 5,
   "metadata": {},
   "outputs": [],
   "source": [
    "tracks_artists = []"
   ]
  },
  {
   "cell_type": "code",
   "execution_count": 6,
   "metadata": {},
   "outputs": [],
   "source": [
    "for i in tracks['items']:\n",
    "    tracks_artists = [\n",
    "        {\n",
    "            i['track']['name'],\n",
    "            \n",
    "        }\n",
    "    ]"
   ]
  },
  {
   "cell_type": "code",
   "execution_count": 7,
   "metadata": {},
   "outputs": [],
   "source": [
    "sorted_list = []\n",
    "for i in tracks['items']:\n",
    "    song = i['track']['name']\n",
    "    artists = []\n",
    "    \n",
    "    for j in i['track']['artists']:\n",
    "        artists.append(j['name'])\n",
    "    image = i['track']['album']['images'][1]['url']\n",
    "        \n",
    "    sorted_list.append({\"song\" : song, \n",
    "                        \"artists\" : artists,\n",
    "                        \"image\" : image})"
   ]
  },
  {
   "cell_type": "code",
   "execution_count": 8,
   "metadata": {},
   "outputs": [
    {
     "data": {
      "text/plain": [
       "[{'song': 'Sway With Me (with GALXARA)',\n",
       "  'artists': ['Saweetie', 'GALXARA'],\n",
       "  'image': 'https://i.scdn.co/image/ab67616d00001e020ec95779b64062cd2fad8a5c'},\n",
       " {'song': 'alright',\n",
       "  'artists': ['Rad Cat', 'Dutch Melrose'],\n",
       "  'image': 'https://i.scdn.co/image/ab67616d00001e026aff2d4c8e45e3af025e4967'},\n",
       " {'song': 'Happy Pill',\n",
       "  'artists': ['grandson', 'Moby Rich'],\n",
       "  'image': 'https://i.scdn.co/image/ab67616d00001e02614df2d23ecffd3cd035cecc'},\n",
       " {'song': 'Zen (with K.Flay & grandson)',\n",
       "  'artists': ['X Ambassadors', 'K.Flay', 'grandson'],\n",
       "  'image': 'https://i.scdn.co/image/ab67616d00001e02e420fab8e9ec9cf79c073a28'},\n",
       " {'song': 'Sway With Me (with GALXARA)',\n",
       "  'artists': ['Saweetie', 'GALXARA'],\n",
       "  'image': 'https://i.scdn.co/image/ab67616d00001e020ec95779b64062cd2fad8a5c'},\n",
       " {'song': 'Sway With Me (with GALXARA)',\n",
       "  'artists': ['Saweetie', 'GALXARA'],\n",
       "  'image': 'https://i.scdn.co/image/ab67616d00001e020ec95779b64062cd2fad8a5c'},\n",
       " {'song': 'Happy Pill',\n",
       "  'artists': ['grandson', 'Moby Rich'],\n",
       "  'image': 'https://i.scdn.co/image/ab67616d00001e02614df2d23ecffd3cd035cecc'},\n",
       " {'song': 'Sway With Me (with GALXARA)',\n",
       "  'artists': ['Saweetie', 'GALXARA'],\n",
       "  'image': 'https://i.scdn.co/image/ab67616d00001e020ec95779b64062cd2fad8a5c'},\n",
       " {'song': 'alright',\n",
       "  'artists': ['Rad Cat', 'Dutch Melrose'],\n",
       "  'image': 'https://i.scdn.co/image/ab67616d00001e026aff2d4c8e45e3af025e4967'},\n",
       " {'song': 'Sway With Me (with GALXARA)',\n",
       "  'artists': ['Saweetie', 'GALXARA'],\n",
       "  'image': 'https://i.scdn.co/image/ab67616d00001e020ec95779b64062cd2fad8a5c'}]"
      ]
     },
     "execution_count": 8,
     "metadata": {},
     "output_type": "execute_result"
    }
   ],
   "source": [
    "sorted_list"
   ]
  },
  {
   "cell_type": "code",
   "execution_count": 9,
   "metadata": {},
   "outputs": [
    {
     "name": "stdout",
     "output_type": "stream",
     "text": [
      "https://i.scdn.co/image/ab67616d00001e020ec95779b64062cd2fad8a5c\n",
      "https://i.scdn.co/image/ab67616d00001e026aff2d4c8e45e3af025e4967\n",
      "https://i.scdn.co/image/ab67616d00001e02614df2d23ecffd3cd035cecc\n",
      "https://i.scdn.co/image/ab67616d00001e02e420fab8e9ec9cf79c073a28\n",
      "https://i.scdn.co/image/ab67616d00001e020ec95779b64062cd2fad8a5c\n",
      "https://i.scdn.co/image/ab67616d00001e020ec95779b64062cd2fad8a5c\n",
      "https://i.scdn.co/image/ab67616d00001e02614df2d23ecffd3cd035cecc\n",
      "https://i.scdn.co/image/ab67616d00001e020ec95779b64062cd2fad8a5c\n",
      "https://i.scdn.co/image/ab67616d00001e026aff2d4c8e45e3af025e4967\n",
      "https://i.scdn.co/image/ab67616d00001e020ec95779b64062cd2fad8a5c\n"
     ]
    }
   ],
   "source": [
    "for i in tracks['items']:\n",
    "    print(i['track']['album']['images'][1]['url'])"
   ]
  },
  {
   "cell_type": "code",
   "execution_count": null,
   "metadata": {},
   "outputs": [],
   "source": []
  }
 ],
 "metadata": {
  "kernelspec": {
   "display_name": "Python 3",
   "language": "python",
   "name": "python3"
  },
  "language_info": {
   "codemirror_mode": {
    "name": "ipython",
    "version": 3
   },
   "file_extension": ".py",
   "mimetype": "text/x-python",
   "name": "python",
   "nbconvert_exporter": "python",
   "pygments_lexer": "ipython3",
   "version": "3.7.3"
  }
 },
 "nbformat": 4,
 "nbformat_minor": 4
}
