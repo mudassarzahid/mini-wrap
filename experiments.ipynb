{
 "cells": [
  {
   "cell_type": "code",
   "execution_count": 2,
   "metadata": {},
   "outputs": [],
   "source": [
    "from spotify import get_recent_tracks"
   ]
  },
  {
   "cell_type": "code",
   "execution_count": 41,
   "metadata": {},
   "outputs": [],
   "source": [
    "tracks = get_recent_tracks()"
   ]
  },
  {
   "cell_type": "code",
   "execution_count": 42,
   "metadata": {},
   "outputs": [
    {
     "name": "stdout",
     "output_type": "stream",
     "text": [
      "Happy Pill\n",
      "Happy Pill\n",
      "Happy Pill\n",
      "Happy Pill\n",
      "Happy Pill\n",
      "idontwannabeyouanymore\n",
      "Peaches (Text Voter XX to 40649)\n",
      "Happy Pill\n",
      "Zen (with K.Flay & grandson)\n",
      "WAP (feat. Megan Thee Stallion)\n"
     ]
    }
   ],
   "source": [
    "for i in tracks['items']:\n",
    "    print(i['track']['name'])"
   ]
  },
  {
   "cell_type": "code",
   "execution_count": 54,
   "metadata": {},
   "outputs": [
    {
     "name": "stdout",
     "output_type": "stream",
     "text": [
      "Happy Pill grandson Moby Rich \n",
      "Happy Pill grandson Moby Rich \n",
      "Happy Pill grandson Moby Rich \n",
      "Happy Pill grandson Moby Rich \n",
      "Happy Pill grandson Moby Rich \n",
      "idontwannabeyouanymore Billie Eilish \n",
      "Peaches (Text Voter XX to 40649) grandson K.Flay \n",
      "Happy Pill grandson Moby Rich \n",
      "Zen (with K.Flay & grandson) X Ambassadors K.Flay grandson \n",
      "WAP (feat. Megan Thee Stallion) Cardi B Megan Thee Stallion \n"
     ]
    }
   ],
   "source": [
    "for i in tracks['items']:\n",
    "    print(i['track']['name'], end = \" \")\n",
    "    for j in i['track']['artists']:\n",
    "        print(j['name'], end = \" \")\n",
    "    print()"
   ]
  },
  {
   "cell_type": "code",
   "execution_count": 60,
   "metadata": {},
   "outputs": [
    {
     "ename": "SyntaxError",
     "evalue": "invalid syntax (<ipython-input-60-5c371e342061>, line 1)",
     "output_type": "error",
     "traceback": [
      "\u001b[0;36m  File \u001b[0;32m\"<ipython-input-60-5c371e342061>\"\u001b[0;36m, line \u001b[0;32m1\u001b[0m\n\u001b[0;31m    tracks_artists =\u001b[0m\n\u001b[0m                     ^\u001b[0m\n\u001b[0;31mSyntaxError\u001b[0m\u001b[0;31m:\u001b[0m invalid syntax\n"
     ]
    }
   ],
   "source": [
    "tracks_artists = []"
   ]
  },
  {
   "cell_type": "code",
   "execution_count": 61,
   "metadata": {},
   "outputs": [],
   "source": [
    "for i in tracks['items']:\n",
    "    tracks_artists = [\n",
    "        {\n",
    "            i['track']['name'],\n",
    "            \n",
    "        }\n",
    "    ]"
   ]
  },
  {
   "cell_type": "code",
   "execution_count": 118,
   "metadata": {},
   "outputs": [],
   "source": [
    "songs = []\n",
    "for i in tracks['items']:\n",
    "    song = i['track']['name']\n",
    "    artists = []\n",
    "    for j in i['track']['artists']:\n",
    "        artists.append(j['name'])\n",
    "        \n",
    "    songs.append({\"Song\" : song, \n",
    "                  \"Artists\" : artists})"
   ]
  },
  {
   "cell_type": "code",
   "execution_count": 119,
   "metadata": {},
   "outputs": [
    {
     "data": {
      "text/plain": [
       "[{'Song': 'Happy Pill', 'Artists': ['grandson', 'Moby Rich']},\n",
       " {'Song': 'Happy Pill', 'Artists': ['grandson', 'Moby Rich']},\n",
       " {'Song': 'Happy Pill', 'Artists': ['grandson', 'Moby Rich']},\n",
       " {'Song': 'Happy Pill', 'Artists': ['grandson', 'Moby Rich']},\n",
       " {'Song': 'Happy Pill', 'Artists': ['grandson', 'Moby Rich']},\n",
       " {'Song': 'idontwannabeyouanymore', 'Artists': ['Billie Eilish']},\n",
       " {'Song': 'Peaches (Text Voter XX to 40649)',\n",
       "  'Artists': ['grandson', 'K.Flay']},\n",
       " {'Song': 'Happy Pill', 'Artists': ['grandson', 'Moby Rich']},\n",
       " {'Song': 'Zen (with K.Flay & grandson)',\n",
       "  'Artists': ['X Ambassadors', 'K.Flay', 'grandson']},\n",
       " {'Song': 'WAP (feat. Megan Thee Stallion)',\n",
       "  'Artists': ['Cardi B', 'Megan Thee Stallion']}]"
      ]
     },
     "execution_count": 119,
     "metadata": {},
     "output_type": "execute_result"
    }
   ],
   "source": [
    "songs"
   ]
  },
  {
   "cell_type": "code",
   "execution_count": 85,
   "metadata": {},
   "outputs": [],
   "source": [
    "x = []\n",
    "for i in range(10):\n",
    "    x.append({\"Song\" : \"Song\" + str(i+1),\n",
    "             \"Artists\": \"Y\",\n",
    "             \"Image\" : \"Z\"})"
   ]
  },
  {
   "cell_type": "code",
   "execution_count": 86,
   "metadata": {},
   "outputs": [
    {
     "data": {
      "text/plain": [
       "[{'Song': 'Song1', 'Artists': 'Y', 'Image': 'Z'},\n",
       " {'Song': 'Song2', 'Artists': 'Y', 'Image': 'Z'},\n",
       " {'Song': 'Song3', 'Artists': 'Y', 'Image': 'Z'},\n",
       " {'Song': 'Song4', 'Artists': 'Y', 'Image': 'Z'},\n",
       " {'Song': 'Song5', 'Artists': 'Y', 'Image': 'Z'},\n",
       " {'Song': 'Song6', 'Artists': 'Y', 'Image': 'Z'},\n",
       " {'Song': 'Song7', 'Artists': 'Y', 'Image': 'Z'},\n",
       " {'Song': 'Song8', 'Artists': 'Y', 'Image': 'Z'},\n",
       " {'Song': 'Song9', 'Artists': 'Y', 'Image': 'Z'},\n",
       " {'Song': 'Song10', 'Artists': 'Y', 'Image': 'Z'}]"
      ]
     },
     "execution_count": 86,
     "metadata": {},
     "output_type": "execute_result"
    }
   ],
   "source": [
    "x"
   ]
  },
  {
   "cell_type": "code",
   "execution_count": null,
   "metadata": {},
   "outputs": [],
   "source": []
  }
 ],
 "metadata": {
  "kernelspec": {
   "display_name": "Python 3",
   "language": "python",
   "name": "python3"
  },
  "language_info": {
   "codemirror_mode": {
    "name": "ipython",
    "version": 3
   },
   "file_extension": ".py",
   "mimetype": "text/x-python",
   "name": "python",
   "nbconvert_exporter": "python",
   "pygments_lexer": "ipython3",
   "version": "3.7.3"
  }
 },
 "nbformat": 4,
 "nbformat_minor": 4
}
