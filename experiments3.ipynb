{
 "cells": [
  {
   "cell_type": "code",
   "execution_count": 3,
   "metadata": {},
   "outputs": [],
   "source": [
    "from spotify import get_recent_tracks\n",
    "from spotify import extract_songs_artists_images\n",
    "from spotify import get_all_data\n",
    "from spotify import make_recently_played_request\n",
    "from spotify import get_dates\n",
    "from spotify import extract_date\n",
    "import dateutil.parser\n",
    "import datetime\n",
    "import plotly as py"
   ]
  },
  {
   "cell_type": "code",
   "execution_count": 4,
   "metadata": {},
   "outputs": [],
   "source": [
    "data = get_all_data()"
   ]
  },
  {
   "cell_type": "code",
   "execution_count": 5,
   "metadata": {},
   "outputs": [],
   "source": [
    "hours = []\n",
    "number = 0\n",
    "\n",
    "for i in range(24):\n",
    "    hour = \"{0:0=2d}\".format(i)\n",
    "    hours.append({'hour' : hour,\n",
    "                  'number' : number})"
   ]
  },
  {
   "cell_type": "code",
   "execution_count": 6,
   "metadata": {},
   "outputs": [
    {
     "data": {
      "text/plain": [
       "[{'hour': '00', 'number': 0},\n",
       " {'hour': '01', 'number': 0},\n",
       " {'hour': '02', 'number': 0},\n",
       " {'hour': '03', 'number': 0},\n",
       " {'hour': '04', 'number': 0},\n",
       " {'hour': '05', 'number': 0},\n",
       " {'hour': '06', 'number': 0},\n",
       " {'hour': '07', 'number': 0},\n",
       " {'hour': '08', 'number': 0},\n",
       " {'hour': '09', 'number': 0},\n",
       " {'hour': '10', 'number': 0},\n",
       " {'hour': '11', 'number': 0},\n",
       " {'hour': '12', 'number': 0},\n",
       " {'hour': '13', 'number': 0},\n",
       " {'hour': '14', 'number': 0},\n",
       " {'hour': '15', 'number': 0},\n",
       " {'hour': '16', 'number': 0},\n",
       " {'hour': '17', 'number': 0},\n",
       " {'hour': '18', 'number': 0},\n",
       " {'hour': '19', 'number': 0},\n",
       " {'hour': '20', 'number': 0},\n",
       " {'hour': '21', 'number': 0},\n",
       " {'hour': '22', 'number': 0},\n",
       " {'hour': '23', 'number': 0}]"
      ]
     },
     "execution_count": 6,
     "metadata": {},
     "output_type": "execute_result"
    }
   ],
   "source": [
    "hours"
   ]
  },
  {
   "cell_type": "code",
   "execution_count": 7,
   "metadata": {},
   "outputs": [],
   "source": [
    "sorted_list = []\n",
    "song_at_hour = []\n",
    "number = 0\n",
    "\n",
    "for i in data['items']:\n",
    "    song = i['track']['name']\n",
    "    date = i['played_at']\n",
    "    ms_played = i['track']['duration_ms']\n",
    "    time_plus_ms = dateutil.parser.isoparse(date) + datetime.timedelta(milliseconds = ms_played)\n",
    "    \n",
    "    current_hour = dateutil.parser.isoparse(date).hour\n",
    "    song_at_hour.append({'number' : current_hour})\n",
    "    \n",
    "    artists = []   \n",
    "    for j in i['track']['artists']:\n",
    "        artists.append(j['name'])\n",
    "    image = i['track']['album']['images'][1]['url']\n",
    "        \n",
    "    sorted_list.append({'song' : song, \n",
    "                        'artists' : artists,\n",
    "                        'image' : image,\n",
    "                        'date' : str(dateutil.parser.isoparse(date)),\n",
    "                        'ms_played' : ms_played,\n",
    "                        'time_plus_ms' : str(time_plus_ms)})\n",
    "\n"
   ]
  },
  {
   "cell_type": "code",
   "execution_count": 8,
   "metadata": {},
   "outputs": [
    {
     "data": {
      "text/plain": [
       "[{'number': 19},\n",
       " {'number': 13},\n",
       " {'number': 13},\n",
       " {'number': 13},\n",
       " {'number': 13},\n",
       " {'number': 13},\n",
       " {'number': 13},\n",
       " {'number': 13},\n",
       " {'number': 13},\n",
       " {'number': 13},\n",
       " {'number': 13},\n",
       " {'number': 13},\n",
       " {'number': 13},\n",
       " {'number': 13},\n",
       " {'number': 13},\n",
       " {'number': 13},\n",
       " {'number': 13},\n",
       " {'number': 13},\n",
       " {'number': 12},\n",
       " {'number': 12},\n",
       " {'number': 12},\n",
       " {'number': 12},\n",
       " {'number': 12},\n",
       " {'number': 12},\n",
       " {'number': 12},\n",
       " {'number': 12},\n",
       " {'number': 12},\n",
       " {'number': 12},\n",
       " {'number': 12},\n",
       " {'number': 12},\n",
       " {'number': 12},\n",
       " {'number': 12},\n",
       " {'number': 12},\n",
       " {'number': 12},\n",
       " {'number': 12},\n",
       " {'number': 12},\n",
       " {'number': 11},\n",
       " {'number': 11},\n",
       " {'number': 11},\n",
       " {'number': 11},\n",
       " {'number': 11},\n",
       " {'number': 11},\n",
       " {'number': 11},\n",
       " {'number': 11},\n",
       " {'number': 11},\n",
       " {'number': 9},\n",
       " {'number': 9},\n",
       " {'number': 9},\n",
       " {'number': 9},\n",
       " {'number': 9}]"
      ]
     },
     "execution_count": 8,
     "metadata": {},
     "output_type": "execute_result"
    }
   ],
   "source": [
    "song_at_hour"
   ]
  },
  {
   "cell_type": "code",
   "execution_count": 9,
   "metadata": {},
   "outputs": [
    {
     "data": {
      "text/plain": [
       "[{'hour': '00', 'number': 0},\n",
       " {'hour': '01', 'number': 0},\n",
       " {'hour': '02', 'number': 0},\n",
       " {'hour': '03', 'number': 0},\n",
       " {'hour': '04', 'number': 0},\n",
       " {'hour': '05', 'number': 0},\n",
       " {'hour': '06', 'number': 0},\n",
       " {'hour': '07', 'number': 0},\n",
       " {'hour': '08', 'number': 0},\n",
       " {'hour': '09', 'number': 0},\n",
       " {'hour': '10', 'number': 0},\n",
       " {'hour': '11', 'number': 0},\n",
       " {'hour': '12', 'number': 0},\n",
       " {'hour': '13', 'number': 0},\n",
       " {'hour': '14', 'number': 0},\n",
       " {'hour': '15', 'number': 0},\n",
       " {'hour': '16', 'number': 0},\n",
       " {'hour': '17', 'number': 0},\n",
       " {'hour': '18', 'number': 0},\n",
       " {'hour': '19', 'number': 0},\n",
       " {'hour': '20', 'number': 0},\n",
       " {'hour': '21', 'number': 0},\n",
       " {'hour': '22', 'number': 0},\n",
       " {'hour': '23', 'number': 0}]"
      ]
     },
     "execution_count": 9,
     "metadata": {},
     "output_type": "execute_result"
    }
   ],
   "source": [
    "hours"
   ]
  },
  {
   "cell_type": "code",
   "execution_count": 12,
   "metadata": {},
   "outputs": [
    {
     "data": {
      "application/vnd.plotly.v1+json": {
       "config": {
        "linkText": "Export to plotly.com",
        "plotlyServerURL": "https://plotly.com",
        "showLink": false
       },
       "data": [
        {
         "line": {
          "shape": "spline",
          "smoothing": 1.3
         },
         "mode": "lines",
         "type": "scatter",
         "x": [
          "2020-08-23T19:03:19.185Z",
          "2020-08-23T13:58:12.819Z",
          "2020-08-23T13:55:24.280Z",
          "2020-08-23T13:51:46.818Z",
          "2020-08-23T13:48:10.347Z",
          "2020-08-23T13:45:21.637Z",
          "2020-08-23T13:41:43.690Z",
          "2020-08-23T13:38:08.050Z",
          "2020-08-23T13:35:19.493Z",
          "2020-08-23T13:31:42.048Z",
          "2020-08-23T13:26:27.714Z",
          "2020-08-23T13:23:39.183Z",
          "2020-08-23T13:20:01.663Z",
          "2020-08-23T13:16:25.311Z",
          "2020-08-23T13:13:36.831Z",
          "2020-08-23T13:09:59.303Z",
          "2020-08-23T13:06:22.948Z",
          "2020-08-23T13:03:34.461Z",
          "2020-08-23T12:59:56.942Z",
          "2020-08-23T12:56:20.573Z",
          "2020-08-23T12:52:50.780Z",
          "2020-08-23T12:49:13.331Z",
          "2020-08-23T12:45:36.835Z",
          "2020-08-23T12:42:48.407Z",
          "2020-08-23T12:39:10.961Z",
          "2020-08-23T12:33:58.815Z",
          "2020-08-23T12:31:10.355Z",
          "2020-08-23T12:27:32.777Z",
          "2020-08-23T12:23:56.461Z",
          "2020-08-23T12:21:07.964Z",
          "2020-08-23T12:17:30.423Z",
          "2020-08-23T12:13:54.113Z",
          "2020-08-23T12:11:05.598Z",
          "2020-08-23T12:07:28.096Z",
          "2020-08-23T12:03:51.716Z",
          "2020-08-23T12:01:03.233Z",
          "2020-08-23T11:57:25.709Z",
          "2020-08-23T11:53:49.369Z",
          "2020-08-23T11:51:00.871Z",
          "2020-08-23T11:47:23.350Z",
          "2020-08-23T11:43:46.973Z",
          "2020-08-23T11:40:58.467Z",
          "2020-08-23T11:37:20.909Z",
          "2020-08-23T11:33:44.609Z",
          "2020-08-23T11:29:48.676Z",
          "2020-08-23T09:56:20.124Z",
          "2020-08-23T09:53:31.518Z",
          "2020-08-23T09:49:51.900Z",
          "2020-08-23T09:46:15.545Z",
          "2020-08-23T09:43:27.027Z"
         ],
         "y": [
          3.5980333333333334,
          2.8003,
          3.61665,
          3.5980333333333334,
          2.8003,
          3.61665,
          3.5980333333333334,
          2.8003,
          3.61665,
          3.5980333333333334,
          2.8003,
          3.61665,
          3.5980333333333334,
          2.8003,
          3.61665,
          3.5980333333333334,
          2.8003,
          3.61665,
          3.5980333333333334,
          2.8003,
          3.61665,
          3.5980333333333334,
          2.8003,
          3.61665,
          3.5980333333333334,
          2.8003,
          3.61665,
          3.5980333333333334,
          2.8003,
          3.61665,
          3.5980333333333334,
          2.8003,
          3.61665,
          3.5980333333333334,
          2.8003,
          3.61665,
          3.5980333333333334,
          2.8003,
          3.61665,
          3.5980333333333334,
          2.8003,
          3.61665,
          3.5980333333333334,
          2.8003,
          3.61665,
          2.8003,
          3.61665,
          3.5980333333333334,
          2.8003,
          3.61665
         ]
        }
       ],
       "layout": {
        "template": {
         "data": {
          "bar": [
           {
            "error_x": {
             "color": "#2a3f5f"
            },
            "error_y": {
             "color": "#2a3f5f"
            },
            "marker": {
             "line": {
              "color": "#E5ECF6",
              "width": 0.5
             }
            },
            "type": "bar"
           }
          ],
          "barpolar": [
           {
            "marker": {
             "line": {
              "color": "#E5ECF6",
              "width": 0.5
             }
            },
            "type": "barpolar"
           }
          ],
          "carpet": [
           {
            "aaxis": {
             "endlinecolor": "#2a3f5f",
             "gridcolor": "white",
             "linecolor": "white",
             "minorgridcolor": "white",
             "startlinecolor": "#2a3f5f"
            },
            "baxis": {
             "endlinecolor": "#2a3f5f",
             "gridcolor": "white",
             "linecolor": "white",
             "minorgridcolor": "white",
             "startlinecolor": "#2a3f5f"
            },
            "type": "carpet"
           }
          ],
          "choropleth": [
           {
            "colorbar": {
             "outlinewidth": 0,
             "ticks": ""
            },
            "type": "choropleth"
           }
          ],
          "contour": [
           {
            "colorbar": {
             "outlinewidth": 0,
             "ticks": ""
            },
            "colorscale": [
             [
              0,
              "#0d0887"
             ],
             [
              0.1111111111111111,
              "#46039f"
             ],
             [
              0.2222222222222222,
              "#7201a8"
             ],
             [
              0.3333333333333333,
              "#9c179e"
             ],
             [
              0.4444444444444444,
              "#bd3786"
             ],
             [
              0.5555555555555556,
              "#d8576b"
             ],
             [
              0.6666666666666666,
              "#ed7953"
             ],
             [
              0.7777777777777778,
              "#fb9f3a"
             ],
             [
              0.8888888888888888,
              "#fdca26"
             ],
             [
              1,
              "#f0f921"
             ]
            ],
            "type": "contour"
           }
          ],
          "contourcarpet": [
           {
            "colorbar": {
             "outlinewidth": 0,
             "ticks": ""
            },
            "type": "contourcarpet"
           }
          ],
          "heatmap": [
           {
            "colorbar": {
             "outlinewidth": 0,
             "ticks": ""
            },
            "colorscale": [
             [
              0,
              "#0d0887"
             ],
             [
              0.1111111111111111,
              "#46039f"
             ],
             [
              0.2222222222222222,
              "#7201a8"
             ],
             [
              0.3333333333333333,
              "#9c179e"
             ],
             [
              0.4444444444444444,
              "#bd3786"
             ],
             [
              0.5555555555555556,
              "#d8576b"
             ],
             [
              0.6666666666666666,
              "#ed7953"
             ],
             [
              0.7777777777777778,
              "#fb9f3a"
             ],
             [
              0.8888888888888888,
              "#fdca26"
             ],
             [
              1,
              "#f0f921"
             ]
            ],
            "type": "heatmap"
           }
          ],
          "heatmapgl": [
           {
            "colorbar": {
             "outlinewidth": 0,
             "ticks": ""
            },
            "colorscale": [
             [
              0,
              "#0d0887"
             ],
             [
              0.1111111111111111,
              "#46039f"
             ],
             [
              0.2222222222222222,
              "#7201a8"
             ],
             [
              0.3333333333333333,
              "#9c179e"
             ],
             [
              0.4444444444444444,
              "#bd3786"
             ],
             [
              0.5555555555555556,
              "#d8576b"
             ],
             [
              0.6666666666666666,
              "#ed7953"
             ],
             [
              0.7777777777777778,
              "#fb9f3a"
             ],
             [
              0.8888888888888888,
              "#fdca26"
             ],
             [
              1,
              "#f0f921"
             ]
            ],
            "type": "heatmapgl"
           }
          ],
          "histogram": [
           {
            "marker": {
             "colorbar": {
              "outlinewidth": 0,
              "ticks": ""
             }
            },
            "type": "histogram"
           }
          ],
          "histogram2d": [
           {
            "colorbar": {
             "outlinewidth": 0,
             "ticks": ""
            },
            "colorscale": [
             [
              0,
              "#0d0887"
             ],
             [
              0.1111111111111111,
              "#46039f"
             ],
             [
              0.2222222222222222,
              "#7201a8"
             ],
             [
              0.3333333333333333,
              "#9c179e"
             ],
             [
              0.4444444444444444,
              "#bd3786"
             ],
             [
              0.5555555555555556,
              "#d8576b"
             ],
             [
              0.6666666666666666,
              "#ed7953"
             ],
             [
              0.7777777777777778,
              "#fb9f3a"
             ],
             [
              0.8888888888888888,
              "#fdca26"
             ],
             [
              1,
              "#f0f921"
             ]
            ],
            "type": "histogram2d"
           }
          ],
          "histogram2dcontour": [
           {
            "colorbar": {
             "outlinewidth": 0,
             "ticks": ""
            },
            "colorscale": [
             [
              0,
              "#0d0887"
             ],
             [
              0.1111111111111111,
              "#46039f"
             ],
             [
              0.2222222222222222,
              "#7201a8"
             ],
             [
              0.3333333333333333,
              "#9c179e"
             ],
             [
              0.4444444444444444,
              "#bd3786"
             ],
             [
              0.5555555555555556,
              "#d8576b"
             ],
             [
              0.6666666666666666,
              "#ed7953"
             ],
             [
              0.7777777777777778,
              "#fb9f3a"
             ],
             [
              0.8888888888888888,
              "#fdca26"
             ],
             [
              1,
              "#f0f921"
             ]
            ],
            "type": "histogram2dcontour"
           }
          ],
          "mesh3d": [
           {
            "colorbar": {
             "outlinewidth": 0,
             "ticks": ""
            },
            "type": "mesh3d"
           }
          ],
          "parcoords": [
           {
            "line": {
             "colorbar": {
              "outlinewidth": 0,
              "ticks": ""
             }
            },
            "type": "parcoords"
           }
          ],
          "pie": [
           {
            "automargin": true,
            "type": "pie"
           }
          ],
          "scatter": [
           {
            "marker": {
             "colorbar": {
              "outlinewidth": 0,
              "ticks": ""
             }
            },
            "type": "scatter"
           }
          ],
          "scatter3d": [
           {
            "line": {
             "colorbar": {
              "outlinewidth": 0,
              "ticks": ""
             }
            },
            "marker": {
             "colorbar": {
              "outlinewidth": 0,
              "ticks": ""
             }
            },
            "type": "scatter3d"
           }
          ],
          "scattercarpet": [
           {
            "marker": {
             "colorbar": {
              "outlinewidth": 0,
              "ticks": ""
             }
            },
            "type": "scattercarpet"
           }
          ],
          "scattergeo": [
           {
            "marker": {
             "colorbar": {
              "outlinewidth": 0,
              "ticks": ""
             }
            },
            "type": "scattergeo"
           }
          ],
          "scattergl": [
           {
            "marker": {
             "colorbar": {
              "outlinewidth": 0,
              "ticks": ""
             }
            },
            "type": "scattergl"
           }
          ],
          "scattermapbox": [
           {
            "marker": {
             "colorbar": {
              "outlinewidth": 0,
              "ticks": ""
             }
            },
            "type": "scattermapbox"
           }
          ],
          "scatterpolar": [
           {
            "marker": {
             "colorbar": {
              "outlinewidth": 0,
              "ticks": ""
             }
            },
            "type": "scatterpolar"
           }
          ],
          "scatterpolargl": [
           {
            "marker": {
             "colorbar": {
              "outlinewidth": 0,
              "ticks": ""
             }
            },
            "type": "scatterpolargl"
           }
          ],
          "scatterternary": [
           {
            "marker": {
             "colorbar": {
              "outlinewidth": 0,
              "ticks": ""
             }
            },
            "type": "scatterternary"
           }
          ],
          "surface": [
           {
            "colorbar": {
             "outlinewidth": 0,
             "ticks": ""
            },
            "colorscale": [
             [
              0,
              "#0d0887"
             ],
             [
              0.1111111111111111,
              "#46039f"
             ],
             [
              0.2222222222222222,
              "#7201a8"
             ],
             [
              0.3333333333333333,
              "#9c179e"
             ],
             [
              0.4444444444444444,
              "#bd3786"
             ],
             [
              0.5555555555555556,
              "#d8576b"
             ],
             [
              0.6666666666666666,
              "#ed7953"
             ],
             [
              0.7777777777777778,
              "#fb9f3a"
             ],
             [
              0.8888888888888888,
              "#fdca26"
             ],
             [
              1,
              "#f0f921"
             ]
            ],
            "type": "surface"
           }
          ],
          "table": [
           {
            "cells": {
             "fill": {
              "color": "#EBF0F8"
             },
             "line": {
              "color": "white"
             }
            },
            "header": {
             "fill": {
              "color": "#C8D4E3"
             },
             "line": {
              "color": "white"
             }
            },
            "type": "table"
           }
          ]
         },
         "layout": {
          "annotationdefaults": {
           "arrowcolor": "#2a3f5f",
           "arrowhead": 0,
           "arrowwidth": 1
          },
          "coloraxis": {
           "colorbar": {
            "outlinewidth": 0,
            "ticks": ""
           }
          },
          "colorscale": {
           "diverging": [
            [
             0,
             "#8e0152"
            ],
            [
             0.1,
             "#c51b7d"
            ],
            [
             0.2,
             "#de77ae"
            ],
            [
             0.3,
             "#f1b6da"
            ],
            [
             0.4,
             "#fde0ef"
            ],
            [
             0.5,
             "#f7f7f7"
            ],
            [
             0.6,
             "#e6f5d0"
            ],
            [
             0.7,
             "#b8e186"
            ],
            [
             0.8,
             "#7fbc41"
            ],
            [
             0.9,
             "#4d9221"
            ],
            [
             1,
             "#276419"
            ]
           ],
           "sequential": [
            [
             0,
             "#0d0887"
            ],
            [
             0.1111111111111111,
             "#46039f"
            ],
            [
             0.2222222222222222,
             "#7201a8"
            ],
            [
             0.3333333333333333,
             "#9c179e"
            ],
            [
             0.4444444444444444,
             "#bd3786"
            ],
            [
             0.5555555555555556,
             "#d8576b"
            ],
            [
             0.6666666666666666,
             "#ed7953"
            ],
            [
             0.7777777777777778,
             "#fb9f3a"
            ],
            [
             0.8888888888888888,
             "#fdca26"
            ],
            [
             1,
             "#f0f921"
            ]
           ],
           "sequentialminus": [
            [
             0,
             "#0d0887"
            ],
            [
             0.1111111111111111,
             "#46039f"
            ],
            [
             0.2222222222222222,
             "#7201a8"
            ],
            [
             0.3333333333333333,
             "#9c179e"
            ],
            [
             0.4444444444444444,
             "#bd3786"
            ],
            [
             0.5555555555555556,
             "#d8576b"
            ],
            [
             0.6666666666666666,
             "#ed7953"
            ],
            [
             0.7777777777777778,
             "#fb9f3a"
            ],
            [
             0.8888888888888888,
             "#fdca26"
            ],
            [
             1,
             "#f0f921"
            ]
           ]
          },
          "colorway": [
           "#636efa",
           "#EF553B",
           "#00cc96",
           "#ab63fa",
           "#FFA15A",
           "#19d3f3",
           "#FF6692",
           "#B6E880",
           "#FF97FF",
           "#FECB52"
          ],
          "font": {
           "color": "#2a3f5f"
          },
          "geo": {
           "bgcolor": "white",
           "lakecolor": "white",
           "landcolor": "#E5ECF6",
           "showlakes": true,
           "showland": true,
           "subunitcolor": "white"
          },
          "hoverlabel": {
           "align": "left"
          },
          "hovermode": "closest",
          "mapbox": {
           "style": "light"
          },
          "paper_bgcolor": "white",
          "plot_bgcolor": "#E5ECF6",
          "polar": {
           "angularaxis": {
            "gridcolor": "white",
            "linecolor": "white",
            "ticks": ""
           },
           "bgcolor": "#E5ECF6",
           "radialaxis": {
            "gridcolor": "white",
            "linecolor": "white",
            "ticks": ""
           }
          },
          "scene": {
           "xaxis": {
            "backgroundcolor": "#E5ECF6",
            "gridcolor": "white",
            "gridwidth": 2,
            "linecolor": "white",
            "showbackground": true,
            "ticks": "",
            "zerolinecolor": "white"
           },
           "yaxis": {
            "backgroundcolor": "#E5ECF6",
            "gridcolor": "white",
            "gridwidth": 2,
            "linecolor": "white",
            "showbackground": true,
            "ticks": "",
            "zerolinecolor": "white"
           },
           "zaxis": {
            "backgroundcolor": "#E5ECF6",
            "gridcolor": "white",
            "gridwidth": 2,
            "linecolor": "white",
            "showbackground": true,
            "ticks": "",
            "zerolinecolor": "white"
           }
          },
          "shapedefaults": {
           "line": {
            "color": "#2a3f5f"
           }
          },
          "ternary": {
           "aaxis": {
            "gridcolor": "white",
            "linecolor": "white",
            "ticks": ""
           },
           "baxis": {
            "gridcolor": "white",
            "linecolor": "white",
            "ticks": ""
           },
           "bgcolor": "#E5ECF6",
           "caxis": {
            "gridcolor": "white",
            "linecolor": "white",
            "ticks": ""
           }
          },
          "title": {
           "x": 0.05
          },
          "xaxis": {
           "automargin": true,
           "gridcolor": "white",
           "linecolor": "white",
           "ticks": "",
           "title": {
            "standoff": 15
           },
           "zerolinecolor": "white",
           "zerolinewidth": 2
          },
          "yaxis": {
           "automargin": true,
           "gridcolor": "white",
           "linecolor": "white",
           "ticks": "",
           "title": {
            "standoff": 15
           },
           "zerolinecolor": "white",
           "zerolinewidth": 2
          }
         }
        }
       }
      },
      "text/html": [
       "<div>\n",
       "        \n",
       "        \n",
       "            <div id=\"53054b1a-c23f-4b8c-a7fe-eff21145e228\" class=\"plotly-graph-div\" style=\"height:525px; width:100%;\"></div>\n",
       "            <script type=\"text/javascript\">\n",
       "                require([\"plotly\"], function(Plotly) {\n",
       "                    window.PLOTLYENV=window.PLOTLYENV || {};\n",
       "                    \n",
       "                if (document.getElementById(\"53054b1a-c23f-4b8c-a7fe-eff21145e228\")) {\n",
       "                    Plotly.newPlot(\n",
       "                        '53054b1a-c23f-4b8c-a7fe-eff21145e228',\n",
       "                        [{\"line\": {\"shape\": \"spline\", \"smoothing\": 1.3}, \"mode\": \"lines\", \"type\": \"scatter\", \"x\": [\"2020-08-23T19:03:19.185Z\", \"2020-08-23T13:58:12.819Z\", \"2020-08-23T13:55:24.280Z\", \"2020-08-23T13:51:46.818Z\", \"2020-08-23T13:48:10.347Z\", \"2020-08-23T13:45:21.637Z\", \"2020-08-23T13:41:43.690Z\", \"2020-08-23T13:38:08.050Z\", \"2020-08-23T13:35:19.493Z\", \"2020-08-23T13:31:42.048Z\", \"2020-08-23T13:26:27.714Z\", \"2020-08-23T13:23:39.183Z\", \"2020-08-23T13:20:01.663Z\", \"2020-08-23T13:16:25.311Z\", \"2020-08-23T13:13:36.831Z\", \"2020-08-23T13:09:59.303Z\", \"2020-08-23T13:06:22.948Z\", \"2020-08-23T13:03:34.461Z\", \"2020-08-23T12:59:56.942Z\", \"2020-08-23T12:56:20.573Z\", \"2020-08-23T12:52:50.780Z\", \"2020-08-23T12:49:13.331Z\", \"2020-08-23T12:45:36.835Z\", \"2020-08-23T12:42:48.407Z\", \"2020-08-23T12:39:10.961Z\", \"2020-08-23T12:33:58.815Z\", \"2020-08-23T12:31:10.355Z\", \"2020-08-23T12:27:32.777Z\", \"2020-08-23T12:23:56.461Z\", \"2020-08-23T12:21:07.964Z\", \"2020-08-23T12:17:30.423Z\", \"2020-08-23T12:13:54.113Z\", \"2020-08-23T12:11:05.598Z\", \"2020-08-23T12:07:28.096Z\", \"2020-08-23T12:03:51.716Z\", \"2020-08-23T12:01:03.233Z\", \"2020-08-23T11:57:25.709Z\", \"2020-08-23T11:53:49.369Z\", \"2020-08-23T11:51:00.871Z\", \"2020-08-23T11:47:23.350Z\", \"2020-08-23T11:43:46.973Z\", \"2020-08-23T11:40:58.467Z\", \"2020-08-23T11:37:20.909Z\", \"2020-08-23T11:33:44.609Z\", \"2020-08-23T11:29:48.676Z\", \"2020-08-23T09:56:20.124Z\", \"2020-08-23T09:53:31.518Z\", \"2020-08-23T09:49:51.900Z\", \"2020-08-23T09:46:15.545Z\", \"2020-08-23T09:43:27.027Z\"], \"y\": [3.5980333333333334, 2.8003, 3.61665, 3.5980333333333334, 2.8003, 3.61665, 3.5980333333333334, 2.8003, 3.61665, 3.5980333333333334, 2.8003, 3.61665, 3.5980333333333334, 2.8003, 3.61665, 3.5980333333333334, 2.8003, 3.61665, 3.5980333333333334, 2.8003, 3.61665, 3.5980333333333334, 2.8003, 3.61665, 3.5980333333333334, 2.8003, 3.61665, 3.5980333333333334, 2.8003, 3.61665, 3.5980333333333334, 2.8003, 3.61665, 3.5980333333333334, 2.8003, 3.61665, 3.5980333333333334, 2.8003, 3.61665, 3.5980333333333334, 2.8003, 3.61665, 3.5980333333333334, 2.8003, 3.61665, 2.8003, 3.61665, 3.5980333333333334, 2.8003, 3.61665]}],\n",
       "                        {\"template\": {\"data\": {\"bar\": [{\"error_x\": {\"color\": \"#2a3f5f\"}, \"error_y\": {\"color\": \"#2a3f5f\"}, \"marker\": {\"line\": {\"color\": \"#E5ECF6\", \"width\": 0.5}}, \"type\": \"bar\"}], \"barpolar\": [{\"marker\": {\"line\": {\"color\": \"#E5ECF6\", \"width\": 0.5}}, \"type\": \"barpolar\"}], \"carpet\": [{\"aaxis\": {\"endlinecolor\": \"#2a3f5f\", \"gridcolor\": \"white\", \"linecolor\": \"white\", \"minorgridcolor\": \"white\", \"startlinecolor\": \"#2a3f5f\"}, \"baxis\": {\"endlinecolor\": \"#2a3f5f\", \"gridcolor\": \"white\", \"linecolor\": \"white\", \"minorgridcolor\": \"white\", \"startlinecolor\": \"#2a3f5f\"}, \"type\": \"carpet\"}], \"choropleth\": [{\"colorbar\": {\"outlinewidth\": 0, \"ticks\": \"\"}, \"type\": \"choropleth\"}], \"contour\": [{\"colorbar\": {\"outlinewidth\": 0, \"ticks\": \"\"}, \"colorscale\": [[0.0, \"#0d0887\"], [0.1111111111111111, \"#46039f\"], [0.2222222222222222, \"#7201a8\"], [0.3333333333333333, \"#9c179e\"], [0.4444444444444444, \"#bd3786\"], [0.5555555555555556, \"#d8576b\"], [0.6666666666666666, \"#ed7953\"], [0.7777777777777778, \"#fb9f3a\"], [0.8888888888888888, \"#fdca26\"], [1.0, \"#f0f921\"]], \"type\": \"contour\"}], \"contourcarpet\": [{\"colorbar\": {\"outlinewidth\": 0, \"ticks\": \"\"}, \"type\": \"contourcarpet\"}], \"heatmap\": [{\"colorbar\": {\"outlinewidth\": 0, \"ticks\": \"\"}, \"colorscale\": [[0.0, \"#0d0887\"], [0.1111111111111111, \"#46039f\"], [0.2222222222222222, \"#7201a8\"], [0.3333333333333333, \"#9c179e\"], [0.4444444444444444, \"#bd3786\"], [0.5555555555555556, \"#d8576b\"], [0.6666666666666666, \"#ed7953\"], [0.7777777777777778, \"#fb9f3a\"], [0.8888888888888888, \"#fdca26\"], [1.0, \"#f0f921\"]], \"type\": \"heatmap\"}], \"heatmapgl\": [{\"colorbar\": {\"outlinewidth\": 0, \"ticks\": \"\"}, \"colorscale\": [[0.0, \"#0d0887\"], [0.1111111111111111, \"#46039f\"], [0.2222222222222222, \"#7201a8\"], [0.3333333333333333, \"#9c179e\"], [0.4444444444444444, \"#bd3786\"], [0.5555555555555556, \"#d8576b\"], [0.6666666666666666, \"#ed7953\"], [0.7777777777777778, \"#fb9f3a\"], [0.8888888888888888, \"#fdca26\"], [1.0, \"#f0f921\"]], \"type\": \"heatmapgl\"}], \"histogram\": [{\"marker\": {\"colorbar\": {\"outlinewidth\": 0, \"ticks\": \"\"}}, \"type\": \"histogram\"}], \"histogram2d\": [{\"colorbar\": {\"outlinewidth\": 0, \"ticks\": \"\"}, \"colorscale\": [[0.0, \"#0d0887\"], [0.1111111111111111, \"#46039f\"], [0.2222222222222222, \"#7201a8\"], [0.3333333333333333, \"#9c179e\"], [0.4444444444444444, \"#bd3786\"], [0.5555555555555556, \"#d8576b\"], [0.6666666666666666, \"#ed7953\"], [0.7777777777777778, \"#fb9f3a\"], [0.8888888888888888, \"#fdca26\"], [1.0, \"#f0f921\"]], \"type\": \"histogram2d\"}], \"histogram2dcontour\": [{\"colorbar\": {\"outlinewidth\": 0, \"ticks\": \"\"}, \"colorscale\": [[0.0, \"#0d0887\"], [0.1111111111111111, \"#46039f\"], [0.2222222222222222, \"#7201a8\"], [0.3333333333333333, \"#9c179e\"], [0.4444444444444444, \"#bd3786\"], [0.5555555555555556, \"#d8576b\"], [0.6666666666666666, \"#ed7953\"], [0.7777777777777778, \"#fb9f3a\"], [0.8888888888888888, \"#fdca26\"], [1.0, \"#f0f921\"]], \"type\": \"histogram2dcontour\"}], \"mesh3d\": [{\"colorbar\": {\"outlinewidth\": 0, \"ticks\": \"\"}, \"type\": \"mesh3d\"}], \"parcoords\": [{\"line\": {\"colorbar\": {\"outlinewidth\": 0, \"ticks\": \"\"}}, \"type\": \"parcoords\"}], \"pie\": [{\"automargin\": true, \"type\": \"pie\"}], \"scatter\": [{\"marker\": {\"colorbar\": {\"outlinewidth\": 0, \"ticks\": \"\"}}, \"type\": \"scatter\"}], \"scatter3d\": [{\"line\": {\"colorbar\": {\"outlinewidth\": 0, \"ticks\": \"\"}}, \"marker\": {\"colorbar\": {\"outlinewidth\": 0, \"ticks\": \"\"}}, \"type\": \"scatter3d\"}], \"scattercarpet\": [{\"marker\": {\"colorbar\": {\"outlinewidth\": 0, \"ticks\": \"\"}}, \"type\": \"scattercarpet\"}], \"scattergeo\": [{\"marker\": {\"colorbar\": {\"outlinewidth\": 0, \"ticks\": \"\"}}, \"type\": \"scattergeo\"}], \"scattergl\": [{\"marker\": {\"colorbar\": {\"outlinewidth\": 0, \"ticks\": \"\"}}, \"type\": \"scattergl\"}], \"scattermapbox\": [{\"marker\": {\"colorbar\": {\"outlinewidth\": 0, \"ticks\": \"\"}}, \"type\": \"scattermapbox\"}], \"scatterpolar\": [{\"marker\": {\"colorbar\": {\"outlinewidth\": 0, \"ticks\": \"\"}}, \"type\": \"scatterpolar\"}], \"scatterpolargl\": [{\"marker\": {\"colorbar\": {\"outlinewidth\": 0, \"ticks\": \"\"}}, \"type\": \"scatterpolargl\"}], \"scatterternary\": [{\"marker\": {\"colorbar\": {\"outlinewidth\": 0, \"ticks\": \"\"}}, \"type\": \"scatterternary\"}], \"surface\": [{\"colorbar\": {\"outlinewidth\": 0, \"ticks\": \"\"}, \"colorscale\": [[0.0, \"#0d0887\"], [0.1111111111111111, \"#46039f\"], [0.2222222222222222, \"#7201a8\"], [0.3333333333333333, \"#9c179e\"], [0.4444444444444444, \"#bd3786\"], [0.5555555555555556, \"#d8576b\"], [0.6666666666666666, \"#ed7953\"], [0.7777777777777778, \"#fb9f3a\"], [0.8888888888888888, \"#fdca26\"], [1.0, \"#f0f921\"]], \"type\": \"surface\"}], \"table\": [{\"cells\": {\"fill\": {\"color\": \"#EBF0F8\"}, \"line\": {\"color\": \"white\"}}, \"header\": {\"fill\": {\"color\": \"#C8D4E3\"}, \"line\": {\"color\": \"white\"}}, \"type\": \"table\"}]}, \"layout\": {\"annotationdefaults\": {\"arrowcolor\": \"#2a3f5f\", \"arrowhead\": 0, \"arrowwidth\": 1}, \"coloraxis\": {\"colorbar\": {\"outlinewidth\": 0, \"ticks\": \"\"}}, \"colorscale\": {\"diverging\": [[0, \"#8e0152\"], [0.1, \"#c51b7d\"], [0.2, \"#de77ae\"], [0.3, \"#f1b6da\"], [0.4, \"#fde0ef\"], [0.5, \"#f7f7f7\"], [0.6, \"#e6f5d0\"], [0.7, \"#b8e186\"], [0.8, \"#7fbc41\"], [0.9, \"#4d9221\"], [1, \"#276419\"]], \"sequential\": [[0.0, \"#0d0887\"], [0.1111111111111111, \"#46039f\"], [0.2222222222222222, \"#7201a8\"], [0.3333333333333333, \"#9c179e\"], [0.4444444444444444, \"#bd3786\"], [0.5555555555555556, \"#d8576b\"], [0.6666666666666666, \"#ed7953\"], [0.7777777777777778, \"#fb9f3a\"], [0.8888888888888888, \"#fdca26\"], [1.0, \"#f0f921\"]], \"sequentialminus\": [[0.0, \"#0d0887\"], [0.1111111111111111, \"#46039f\"], [0.2222222222222222, \"#7201a8\"], [0.3333333333333333, \"#9c179e\"], [0.4444444444444444, \"#bd3786\"], [0.5555555555555556, \"#d8576b\"], [0.6666666666666666, \"#ed7953\"], [0.7777777777777778, \"#fb9f3a\"], [0.8888888888888888, \"#fdca26\"], [1.0, \"#f0f921\"]]}, \"colorway\": [\"#636efa\", \"#EF553B\", \"#00cc96\", \"#ab63fa\", \"#FFA15A\", \"#19d3f3\", \"#FF6692\", \"#B6E880\", \"#FF97FF\", \"#FECB52\"], \"font\": {\"color\": \"#2a3f5f\"}, \"geo\": {\"bgcolor\": \"white\", \"lakecolor\": \"white\", \"landcolor\": \"#E5ECF6\", \"showlakes\": true, \"showland\": true, \"subunitcolor\": \"white\"}, \"hoverlabel\": {\"align\": \"left\"}, \"hovermode\": \"closest\", \"mapbox\": {\"style\": \"light\"}, \"paper_bgcolor\": \"white\", \"plot_bgcolor\": \"#E5ECF6\", \"polar\": {\"angularaxis\": {\"gridcolor\": \"white\", \"linecolor\": \"white\", \"ticks\": \"\"}, \"bgcolor\": \"#E5ECF6\", \"radialaxis\": {\"gridcolor\": \"white\", \"linecolor\": \"white\", \"ticks\": \"\"}}, \"scene\": {\"xaxis\": {\"backgroundcolor\": \"#E5ECF6\", \"gridcolor\": \"white\", \"gridwidth\": 2, \"linecolor\": \"white\", \"showbackground\": true, \"ticks\": \"\", \"zerolinecolor\": \"white\"}, \"yaxis\": {\"backgroundcolor\": \"#E5ECF6\", \"gridcolor\": \"white\", \"gridwidth\": 2, \"linecolor\": \"white\", \"showbackground\": true, \"ticks\": \"\", \"zerolinecolor\": \"white\"}, \"zaxis\": {\"backgroundcolor\": \"#E5ECF6\", \"gridcolor\": \"white\", \"gridwidth\": 2, \"linecolor\": \"white\", \"showbackground\": true, \"ticks\": \"\", \"zerolinecolor\": \"white\"}}, \"shapedefaults\": {\"line\": {\"color\": \"#2a3f5f\"}}, \"ternary\": {\"aaxis\": {\"gridcolor\": \"white\", \"linecolor\": \"white\", \"ticks\": \"\"}, \"baxis\": {\"gridcolor\": \"white\", \"linecolor\": \"white\", \"ticks\": \"\"}, \"bgcolor\": \"#E5ECF6\", \"caxis\": {\"gridcolor\": \"white\", \"linecolor\": \"white\", \"ticks\": \"\"}}, \"title\": {\"x\": 0.05}, \"xaxis\": {\"automargin\": true, \"gridcolor\": \"white\", \"linecolor\": \"white\", \"ticks\": \"\", \"title\": {\"standoff\": 15}, \"zerolinecolor\": \"white\", \"zerolinewidth\": 2}, \"yaxis\": {\"automargin\": true, \"gridcolor\": \"white\", \"linecolor\": \"white\", \"ticks\": \"\", \"title\": {\"standoff\": 15}, \"zerolinecolor\": \"white\", \"zerolinewidth\": 2}}}},\n",
       "                        {\"responsive\": true}\n",
       "                    ).then(function(){\n",
       "                            \n",
       "var gd = document.getElementById('53054b1a-c23f-4b8c-a7fe-eff21145e228');\n",
       "var x = new MutationObserver(function (mutations, observer) {{\n",
       "        var display = window.getComputedStyle(gd).display;\n",
       "        if (!display || display === 'none') {{\n",
       "            console.log([gd, 'removed!']);\n",
       "            Plotly.purge(gd);\n",
       "            observer.disconnect();\n",
       "        }}\n",
       "}});\n",
       "\n",
       "// Listen for the removal of the full notebook cells\n",
       "var notebookContainer = gd.closest('#notebook-container');\n",
       "if (notebookContainer) {{\n",
       "    x.observe(notebookContainer, {childList: true});\n",
       "}}\n",
       "\n",
       "// Listen for the clearing of the current output cell\n",
       "var outputEl = gd.closest('.output');\n",
       "if (outputEl) {{\n",
       "    x.observe(outputEl, {childList: true});\n",
       "}}\n",
       "\n",
       "                        })\n",
       "                };\n",
       "                });\n",
       "            </script>\n",
       "        </div>"
      ]
     },
     "metadata": {},
     "output_type": "display_data"
    }
   ],
   "source": [
    "date = []\n",
    "ms_played = []\n",
    "for i in data['items']:\n",
    "    date.append(i['played_at'])\n",
    "    ms_played.append((i['track']['duration_ms'])/60000)\n",
    "    \n",
    "smoothTrace = {'type': 'scatter', 'mode': 'lines',\n",
    "                 'x': date, 'y': ms_played, 'line': {'shape': 'spline', 'smoothing': 1.3}}\n",
    "\n",
    "py.offline.iplot([smoothTrace])"
   ]
  },
  {
   "cell_type": "code",
   "execution_count": 11,
   "metadata": {},
   "outputs": [
    {
     "data": {
      "text/plain": [
       "['2020-08-23T19:03:19.185Z',\n",
       " '2020-08-23T13:58:12.819Z',\n",
       " '2020-08-23T13:55:24.280Z',\n",
       " '2020-08-23T13:51:46.818Z',\n",
       " '2020-08-23T13:48:10.347Z',\n",
       " '2020-08-23T13:45:21.637Z',\n",
       " '2020-08-23T13:41:43.690Z',\n",
       " '2020-08-23T13:38:08.050Z',\n",
       " '2020-08-23T13:35:19.493Z',\n",
       " '2020-08-23T13:31:42.048Z',\n",
       " '2020-08-23T13:26:27.714Z',\n",
       " '2020-08-23T13:23:39.183Z',\n",
       " '2020-08-23T13:20:01.663Z',\n",
       " '2020-08-23T13:16:25.311Z',\n",
       " '2020-08-23T13:13:36.831Z',\n",
       " '2020-08-23T13:09:59.303Z',\n",
       " '2020-08-23T13:06:22.948Z',\n",
       " '2020-08-23T13:03:34.461Z',\n",
       " '2020-08-23T12:59:56.942Z',\n",
       " '2020-08-23T12:56:20.573Z',\n",
       " '2020-08-23T12:52:50.780Z',\n",
       " '2020-08-23T12:49:13.331Z',\n",
       " '2020-08-23T12:45:36.835Z',\n",
       " '2020-08-23T12:42:48.407Z',\n",
       " '2020-08-23T12:39:10.961Z',\n",
       " '2020-08-23T12:33:58.815Z',\n",
       " '2020-08-23T12:31:10.355Z',\n",
       " '2020-08-23T12:27:32.777Z',\n",
       " '2020-08-23T12:23:56.461Z',\n",
       " '2020-08-23T12:21:07.964Z',\n",
       " '2020-08-23T12:17:30.423Z',\n",
       " '2020-08-23T12:13:54.113Z',\n",
       " '2020-08-23T12:11:05.598Z',\n",
       " '2020-08-23T12:07:28.096Z',\n",
       " '2020-08-23T12:03:51.716Z',\n",
       " '2020-08-23T12:01:03.233Z',\n",
       " '2020-08-23T11:57:25.709Z',\n",
       " '2020-08-23T11:53:49.369Z',\n",
       " '2020-08-23T11:51:00.871Z',\n",
       " '2020-08-23T11:47:23.350Z',\n",
       " '2020-08-23T11:43:46.973Z',\n",
       " '2020-08-23T11:40:58.467Z',\n",
       " '2020-08-23T11:37:20.909Z',\n",
       " '2020-08-23T11:33:44.609Z',\n",
       " '2020-08-23T11:29:48.676Z',\n",
       " '2020-08-23T09:56:20.124Z',\n",
       " '2020-08-23T09:53:31.518Z',\n",
       " '2020-08-23T09:49:51.900Z',\n",
       " '2020-08-23T09:46:15.545Z',\n",
       " '2020-08-23T09:43:27.027Z']"
      ]
     },
     "execution_count": 11,
     "metadata": {},
     "output_type": "execute_result"
    }
   ],
   "source": [
    "date"
   ]
  },
  {
   "cell_type": "code",
   "execution_count": 30,
   "metadata": {},
   "outputs": [
    {
     "data": {
      "text/plain": [
       "2.8003"
      ]
     },
     "execution_count": 30,
     "metadata": {},
     "output_type": "execute_result"
    }
   ],
   "source": [
    "while \n",
    "(data['items'][4]['track']['duration_ms'])/60000"
   ]
  },
  {
   "cell_type": "code",
   "execution_count": null,
   "metadata": {},
   "outputs": [],
   "source": []
  }
 ],
 "metadata": {
  "kernelspec": {
   "display_name": "Python 3",
   "language": "python",
   "name": "python3"
  },
  "language_info": {
   "codemirror_mode": {
    "name": "ipython",
    "version": 3
   },
   "file_extension": ".py",
   "mimetype": "text/x-python",
   "name": "python",
   "nbconvert_exporter": "python",
   "pygments_lexer": "ipython3",
   "version": "3.7.3"
  }
 },
 "nbformat": 4,
 "nbformat_minor": 4
}
