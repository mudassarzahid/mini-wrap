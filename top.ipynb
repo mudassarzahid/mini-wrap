{
 "cells": [
  {
   "cell_type": "code",
   "execution_count": 36,
   "metadata": {},
   "outputs": [],
   "source": [
    "from spotify import top_artists_request\n",
    "from spotify import top_songs_request\n",
    "from spotify import get_all_top_artists_data\n",
    "from spotify import get_all_top_songs_data\n",
    "import json\n",
    "from collections import defaultdict"
   ]
  },
  {
   "cell_type": "code",
   "execution_count": 2,
   "metadata": {},
   "outputs": [],
   "source": [
    "artists_data = get_all_top_artists_data()"
   ]
  },
  {
   "cell_type": "code",
   "execution_count": 5,
   "metadata": {},
   "outputs": [],
   "source": [
    "liste = []\n",
    "for i in artists_data['items']:\n",
    "    genres = i['genres']\n",
    "    name = i['name']\n",
    "    popularity = i['popularity']\n",
    "    \n",
    "    liste.append({'name' : name,\n",
    "                  'popularity' : popularity,\n",
    "                  'genres' : genres})"
   ]
  },
  {
   "cell_type": "code",
   "execution_count": 6,
   "metadata": {},
   "outputs": [],
   "source": [
    "json_liste = json.dumps(liste, indent=2)"
   ]
  },
  {
   "cell_type": "code",
   "execution_count": 53,
   "metadata": {},
   "outputs": [],
   "source": [
    "genres_liste = []\n",
    "for i in liste:\n",
    "    genres_liste.extend(i['genres'])"
   ]
  },
  {
   "cell_type": "code",
   "execution_count": 56,
   "metadata": {},
   "outputs": [],
   "source": [
    "count = {}\n",
    "for i in genres_liste:\n",
    "    if i not in count:\n",
    "        count[i] = 1\n",
    "    else:\n",
    "        count[i] += 1"
   ]
  },
  {
   "cell_type": "code",
   "execution_count": 51,
   "metadata": {},
   "outputs": [
    {
     "data": {
      "text/plain": [
       "[('pop', 25),\n",
       " ('dance pop', 14),\n",
       " ('electropop', 9),\n",
       " ('indie poptimism', 9),\n",
       " ('edm', 7),\n",
       " ('post-teen pop', 6),\n",
       " ('modern rock', 6),\n",
       " ('indietronica', 5),\n",
       " ('bass trap', 4),\n",
       " ('tropical house', 4),\n",
       " ('anime score', 3),\n",
       " ('j-rock', 3),\n",
       " ('pop rap', 3),\n",
       " ('modern alternative rock', 3),\n",
       " ('australian dance', 3),\n",
       " ('vapor twitch', 3),\n",
       " ('vapor soul', 3),\n",
       " ('j-pop', 2),\n",
       " ('japanese emo', 2),\n",
       " ('otacore', 2),\n",
       " ('rock', 2),\n",
       " ('art pop', 2),\n",
       " ('metropopolis', 2),\n",
       " ('indie pop', 2),\n",
       " ('gaming edm', 2),\n",
       " ('la pop', 2),\n",
       " ('australian indie', 2),\n",
       " ('la indie', 1),\n",
       " ('ottawa rap', 1),\n",
       " ('escape room', 1),\n",
       " ('new rave', 1),\n",
       " ('anime', 1),\n",
       " ('j-poprock', 1),\n",
       " ('japanese pop punk', 1),\n",
       " ('hip pop', 1),\n",
       " ('queens hip hop', 1),\n",
       " ('japanese soundtrack', 1),\n",
       " ('etherpop', 1),\n",
       " ('barbadian pop', 1),\n",
       " ('r&b', 1),\n",
       " ('urban contemporary', 1),\n",
       " ('nz pop', 1),\n",
       " ('k-pop', 1),\n",
       " ('k-pop boy group', 1),\n",
       " ('electro house', 1),\n",
       " ('moombahton', 1),\n",
       " ('detroit hip hop', 1),\n",
       " ('hip hop', 1),\n",
       " ('rap', 1),\n",
       " ('big room', 1),\n",
       " ('traprun', 1),\n",
       " ('anime rock', 1),\n",
       " ('alternative dance', 1),\n",
       " ('aussietronica', 1),\n",
       " ('indie soul', 1),\n",
       " ('nu disco', 1),\n",
       " ('australian electropop', 1),\n",
       " ('downtempo', 1),\n",
       " ('vapor pop', 1),\n",
       " ('uk pop', 1),\n",
       " ('visual kei', 1),\n",
       " ('future bass', 1),\n",
       " ('liquid funk', 1),\n",
       " ('uk dance', 1),\n",
       " ('uk funky', 1),\n",
       " ('permanent wave', 1),\n",
       " ('indie electropop', 1),\n",
       " ('australian pop', 1),\n",
       " ('pop edm', 1),\n",
       " ('melodic dubstep', 1),\n",
       " ('uk alternative pop', 1)]"
      ]
     },
     "execution_count": 51,
     "metadata": {},
     "output_type": "execute_result"
    }
   ],
   "source": [
    "count = defaultdict(int)\n",
    "\n",
    "for i in genres_liste:\n",
    "    count[i] += 1\n",
    "\n",
    "sorted(count.items(), key=lambda x: x[1], reverse=True)"
   ]
  },
  {
   "cell_type": "code",
   "execution_count": null,
   "metadata": {},
   "outputs": [],
   "source": []
  }
 ],
 "metadata": {
  "kernelspec": {
   "display_name": "Python 3",
   "language": "python",
   "name": "python3"
  },
  "language_info": {
   "codemirror_mode": {
    "name": "ipython",
    "version": 3
   },
   "file_extension": ".py",
   "mimetype": "text/x-python",
   "name": "python",
   "nbconvert_exporter": "python",
   "pygments_lexer": "ipython3",
   "version": "3.7.3"
  }
 },
 "nbformat": 4,
 "nbformat_minor": 4
}
