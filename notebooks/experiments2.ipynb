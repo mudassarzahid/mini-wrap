{
 "cells": [
  {
   "cell_type": "code",
   "execution_count": 11,
   "metadata": {},
   "outputs": [],
   "source": [
    "from spotify import get_recent_tracks\n",
    "from spotify import extract_songs_artists_images\n",
    "from spotify import get_all_data\n",
    "from spotify import make_recently_played_request\n",
    "\n",
    "from plotly.offline import init_notebook_mode, iplot\n",
    "from datetime import datetime\n",
    "from datetime import timedelta\n",
    "import dateutil.parser\n",
    "import datetime\n",
    "import plotly as py\n",
    "import pandas as pd\n",
    "import plotly.express as px\n",
    "import pandas\n",
    "import chart_studio as cs\n",
    "from collections import defaultdict"
   ]
  },
  {
   "cell_type": "code",
   "execution_count": 5,
   "metadata": {},
   "outputs": [],
   "source": [
    "dates = get_all_data()"
   ]
  },
  {
   "cell_type": "code",
   "execution_count": 6,
   "metadata": {},
   "outputs": [
    {
     "name": "stdout",
     "output_type": "stream",
     "text": [
      "2020-08-30T23:56:54.877Z\n",
      "2020-08-30T23:53:27.394Z\n",
      "2020-08-30T23:49:01.069Z\n",
      "2020-08-30T23:45:15.773Z\n",
      "2020-08-30T23:41:56.300Z\n",
      "2020-08-30T23:38:44.206Z\n",
      "2020-08-30T23:36:15.313Z\n",
      "2020-08-30T23:32:40.144Z\n",
      "2020-08-30T23:29:02.897Z\n",
      "2020-08-30T23:26:53.957Z\n",
      "2020-08-30T23:26:29.206Z\n",
      "2020-08-30T23:23:25.212Z\n",
      "2020-08-30T23:18:58.716Z\n",
      "2020-08-30T23:15:12.959Z\n",
      "2020-08-30T20:26:17.618Z\n",
      "2020-08-30T20:22:30.444Z\n",
      "2020-08-30T20:19:28.787Z\n",
      "2020-08-30T17:42:47.068Z\n",
      "2020-08-30T17:38:20.533Z\n",
      "2020-08-30T17:34:43.199Z\n",
      "2020-08-30T17:31:21.638Z\n",
      "2020-08-30T17:26:54.908Z\n",
      "2020-08-30T17:12:16.884Z\n",
      "2020-08-30T17:08:49.263Z\n",
      "2020-08-30T17:05:14.967Z\n",
      "2020-08-30T17:02:04.165Z\n",
      "2020-08-30T16:51:10.267Z\n",
      "2020-08-30T13:45:11.101Z\n",
      "2020-08-30T13:41:33.978Z\n",
      "2020-08-30T13:38:06.194Z\n",
      "2020-08-30T13:33:33.767Z\n",
      "2020-08-30T13:31:25.537Z\n",
      "2020-08-30T01:28:19.914Z\n",
      "2020-08-30T01:18:17.763Z\n",
      "2020-08-30T01:14:32.565Z\n",
      "2020-08-30T01:11:20.507Z\n",
      "2020-08-30T01:09:10.580Z\n",
      "2020-08-30T01:05:33.467Z\n",
      "2020-08-30T01:01:57.783Z\n",
      "2020-08-30T00:57:31.618Z\n",
      "2020-08-30T00:54:04.040Z\n",
      "2020-08-30T00:51:34.934Z\n",
      "2020-08-30T00:48:15.547Z\n",
      "2020-08-30T00:44:30.745Z\n",
      "2020-08-30T00:40:15.455Z\n",
      "2020-08-30T00:38:05.816Z\n",
      "2020-08-30T00:34:28.388Z\n",
      "2020-08-30T00:30:52.836Z\n",
      "2020-08-30T00:26:26.460Z\n"
     ]
    }
   ],
   "source": [
    "for i in dates['items']:\n",
    "    print(i['played_at'])"
   ]
  },
  {
   "cell_type": "code",
   "execution_count": 7,
   "metadata": {},
   "outputs": [
    {
     "name": "stdout",
     "output_type": "stream",
     "text": [
      "207106\n",
      "266115\n",
      "224660\n",
      "198947\n",
      "191653\n",
      "148112\n",
      "215035\n",
      "216720\n",
      "129240\n",
      "207106\n",
      "215035\n",
      "266115\n",
      "224660\n",
      "209829\n",
      "224660\n",
      "148112\n",
      "148112\n",
      "148112\n",
      "216720\n",
      "129240\n",
      "266115\n",
      "224660\n",
      "207106\n",
      "198947\n",
      "191653\n",
      "133853\n",
      "148112\n",
      "216720\n",
      "207106\n",
      "266115\n",
      "129240\n",
      "224660\n",
      "198947\n",
      "224660\n",
      "191653\n",
      "129240\n",
      "216720\n",
      "215035\n",
      "266115\n",
      "207106\n",
      "148112\n",
      "198947\n",
      "224660\n",
      "191653\n",
      "129240\n",
      "216720\n",
      "215035\n",
      "266115\n",
      "207106\n"
     ]
    }
   ],
   "source": [
    "for i in dates['items']:\n",
    "    print(i['track']['duration_ms'])"
   ]
  },
  {
   "cell_type": "code",
   "execution_count": 108,
   "metadata": {},
   "outputs": [],
   "source": [
    "sorted_list = []\n",
    "for i in dates['items']:\n",
    "    date = i['played_at']\n",
    "    ms_played = i['track']['duration_ms']\n",
    "    time_plus_ms = dateutil.parser.isoparse(date) + datetime.timedelta(milliseconds = ms_played)\n",
    "    \n",
    "    sorted_list.append({'date': str(dateutil.parser.isoparse(date)),\n",
    "                        'ms_played': ms_played,\n",
    "                        'time_plus_ms': str(time_plus_ms)})"
   ]
  },
  {
   "cell_type": "code",
   "execution_count": 109,
   "metadata": {},
   "outputs": [
    {
     "data": {
      "text/plain": [
       "[{'date': '2020-08-30 23:56:54.877000+00:00',\n",
       "  'ms_played': 207106,\n",
       "  'time_plus_ms': '2020-08-31 00:00:21.983000+00:00'},\n",
       " {'date': '2020-08-30 23:53:27.394000+00:00',\n",
       "  'ms_played': 266115,\n",
       "  'time_plus_ms': '2020-08-30 23:57:53.509000+00:00'},\n",
       " {'date': '2020-08-30 23:49:01.069000+00:00',\n",
       "  'ms_played': 224660,\n",
       "  'time_plus_ms': '2020-08-30 23:52:45.729000+00:00'},\n",
       " {'date': '2020-08-30 23:45:15.773000+00:00',\n",
       "  'ms_played': 198947,\n",
       "  'time_plus_ms': '2020-08-30 23:48:34.720000+00:00'},\n",
       " {'date': '2020-08-30 23:41:56.300000+00:00',\n",
       "  'ms_played': 191653,\n",
       "  'time_plus_ms': '2020-08-30 23:45:07.953000+00:00'},\n",
       " {'date': '2020-08-30 23:38:44.206000+00:00',\n",
       "  'ms_played': 148112,\n",
       "  'time_plus_ms': '2020-08-30 23:41:12.318000+00:00'},\n",
       " {'date': '2020-08-30 23:36:15.313000+00:00',\n",
       "  'ms_played': 215035,\n",
       "  'time_plus_ms': '2020-08-30 23:39:50.348000+00:00'},\n",
       " {'date': '2020-08-30 23:32:40.144000+00:00',\n",
       "  'ms_played': 216720,\n",
       "  'time_plus_ms': '2020-08-30 23:36:16.864000+00:00'},\n",
       " {'date': '2020-08-30 23:29:02.897000+00:00',\n",
       "  'ms_played': 129240,\n",
       "  'time_plus_ms': '2020-08-30 23:31:12.137000+00:00'},\n",
       " {'date': '2020-08-30 23:26:53.957000+00:00',\n",
       "  'ms_played': 207106,\n",
       "  'time_plus_ms': '2020-08-30 23:30:21.063000+00:00'},\n",
       " {'date': '2020-08-30 23:26:29.206000+00:00',\n",
       "  'ms_played': 215035,\n",
       "  'time_plus_ms': '2020-08-30 23:30:04.241000+00:00'},\n",
       " {'date': '2020-08-30 23:23:25.212000+00:00',\n",
       "  'ms_played': 266115,\n",
       "  'time_plus_ms': '2020-08-30 23:27:51.327000+00:00'},\n",
       " {'date': '2020-08-30 23:18:58.716000+00:00',\n",
       "  'ms_played': 224660,\n",
       "  'time_plus_ms': '2020-08-30 23:22:43.376000+00:00'},\n",
       " {'date': '2020-08-30 23:15:12.959000+00:00',\n",
       "  'ms_played': 209829,\n",
       "  'time_plus_ms': '2020-08-30 23:18:42.788000+00:00'},\n",
       " {'date': '2020-08-30 20:26:17.618000+00:00',\n",
       "  'ms_played': 224660,\n",
       "  'time_plus_ms': '2020-08-30 20:30:02.278000+00:00'},\n",
       " {'date': '2020-08-30 20:22:30.444000+00:00',\n",
       "  'ms_played': 148112,\n",
       "  'time_plus_ms': '2020-08-30 20:24:58.556000+00:00'},\n",
       " {'date': '2020-08-30 20:19:28.787000+00:00',\n",
       "  'ms_played': 148112,\n",
       "  'time_plus_ms': '2020-08-30 20:21:56.899000+00:00'},\n",
       " {'date': '2020-08-30 17:42:47.068000+00:00',\n",
       "  'ms_played': 148112,\n",
       "  'time_plus_ms': '2020-08-30 17:45:15.180000+00:00'},\n",
       " {'date': '2020-08-30 17:38:20.533000+00:00',\n",
       "  'ms_played': 216720,\n",
       "  'time_plus_ms': '2020-08-30 17:41:57.253000+00:00'},\n",
       " {'date': '2020-08-30 17:34:43.199000+00:00',\n",
       "  'ms_played': 129240,\n",
       "  'time_plus_ms': '2020-08-30 17:36:52.439000+00:00'},\n",
       " {'date': '2020-08-30 17:31:21.638000+00:00',\n",
       "  'ms_played': 266115,\n",
       "  'time_plus_ms': '2020-08-30 17:35:47.753000+00:00'},\n",
       " {'date': '2020-08-30 17:26:54.908000+00:00',\n",
       "  'ms_played': 224660,\n",
       "  'time_plus_ms': '2020-08-30 17:30:39.568000+00:00'},\n",
       " {'date': '2020-08-30 17:12:16.884000+00:00',\n",
       "  'ms_played': 207106,\n",
       "  'time_plus_ms': '2020-08-30 17:15:43.990000+00:00'},\n",
       " {'date': '2020-08-30 17:08:49.263000+00:00',\n",
       "  'ms_played': 198947,\n",
       "  'time_plus_ms': '2020-08-30 17:12:08.210000+00:00'},\n",
       " {'date': '2020-08-30 17:05:14.967000+00:00',\n",
       "  'ms_played': 191653,\n",
       "  'time_plus_ms': '2020-08-30 17:08:26.620000+00:00'},\n",
       " {'date': '2020-08-30 17:02:04.165000+00:00',\n",
       "  'ms_played': 133853,\n",
       "  'time_plus_ms': '2020-08-30 17:04:18.018000+00:00'},\n",
       " {'date': '2020-08-30 16:51:10.267000+00:00',\n",
       "  'ms_played': 148112,\n",
       "  'time_plus_ms': '2020-08-30 16:53:38.379000+00:00'},\n",
       " {'date': '2020-08-30 13:45:11.101000+00:00',\n",
       "  'ms_played': 216720,\n",
       "  'time_plus_ms': '2020-08-30 13:48:47.821000+00:00'},\n",
       " {'date': '2020-08-30 13:41:33.978000+00:00',\n",
       "  'ms_played': 207106,\n",
       "  'time_plus_ms': '2020-08-30 13:45:01.084000+00:00'},\n",
       " {'date': '2020-08-30 13:38:06.194000+00:00',\n",
       "  'ms_played': 266115,\n",
       "  'time_plus_ms': '2020-08-30 13:42:32.309000+00:00'},\n",
       " {'date': '2020-08-30 13:33:33.767000+00:00',\n",
       "  'ms_played': 129240,\n",
       "  'time_plus_ms': '2020-08-30 13:35:43.007000+00:00'},\n",
       " {'date': '2020-08-30 13:31:25.537000+00:00',\n",
       "  'ms_played': 224660,\n",
       "  'time_plus_ms': '2020-08-30 13:35:10.197000+00:00'},\n",
       " {'date': '2020-08-30 01:28:19.914000+00:00',\n",
       "  'ms_played': 198947,\n",
       "  'time_plus_ms': '2020-08-30 01:31:38.861000+00:00'},\n",
       " {'date': '2020-08-30 01:18:17.763000+00:00',\n",
       "  'ms_played': 224660,\n",
       "  'time_plus_ms': '2020-08-30 01:22:02.423000+00:00'},\n",
       " {'date': '2020-08-30 01:14:32.565000+00:00',\n",
       "  'ms_played': 191653,\n",
       "  'time_plus_ms': '2020-08-30 01:17:44.218000+00:00'},\n",
       " {'date': '2020-08-30 01:11:20.507000+00:00',\n",
       "  'ms_played': 129240,\n",
       "  'time_plus_ms': '2020-08-30 01:13:29.747000+00:00'},\n",
       " {'date': '2020-08-30 01:09:10.580000+00:00',\n",
       "  'ms_played': 216720,\n",
       "  'time_plus_ms': '2020-08-30 01:12:47.300000+00:00'},\n",
       " {'date': '2020-08-30 01:05:33.467000+00:00',\n",
       "  'ms_played': 215035,\n",
       "  'time_plus_ms': '2020-08-30 01:09:08.502000+00:00'},\n",
       " {'date': '2020-08-30 01:01:57.783000+00:00',\n",
       "  'ms_played': 266115,\n",
       "  'time_plus_ms': '2020-08-30 01:06:23.898000+00:00'},\n",
       " {'date': '2020-08-30 00:57:31.618000+00:00',\n",
       "  'ms_played': 207106,\n",
       "  'time_plus_ms': '2020-08-30 01:00:58.724000+00:00'},\n",
       " {'date': '2020-08-30 00:54:04.040000+00:00',\n",
       "  'ms_played': 148112,\n",
       "  'time_plus_ms': '2020-08-30 00:56:32.152000+00:00'},\n",
       " {'date': '2020-08-30 00:51:34.934000+00:00',\n",
       "  'ms_played': 198947,\n",
       "  'time_plus_ms': '2020-08-30 00:54:53.881000+00:00'},\n",
       " {'date': '2020-08-30 00:48:15.547000+00:00',\n",
       "  'ms_played': 224660,\n",
       "  'time_plus_ms': '2020-08-30 00:52:00.207000+00:00'},\n",
       " {'date': '2020-08-30 00:44:30.745000+00:00',\n",
       "  'ms_played': 191653,\n",
       "  'time_plus_ms': '2020-08-30 00:47:42.398000+00:00'},\n",
       " {'date': '2020-08-30 00:40:15.455000+00:00',\n",
       "  'ms_played': 129240,\n",
       "  'time_plus_ms': '2020-08-30 00:42:24.695000+00:00'},\n",
       " {'date': '2020-08-30 00:38:05.816000+00:00',\n",
       "  'ms_played': 216720,\n",
       "  'time_plus_ms': '2020-08-30 00:41:42.536000+00:00'},\n",
       " {'date': '2020-08-30 00:34:28.388000+00:00',\n",
       "  'ms_played': 215035,\n",
       "  'time_plus_ms': '2020-08-30 00:38:03.423000+00:00'},\n",
       " {'date': '2020-08-30 00:30:52.836000+00:00',\n",
       "  'ms_played': 266115,\n",
       "  'time_plus_ms': '2020-08-30 00:35:18.951000+00:00'},\n",
       " {'date': '2020-08-30 00:26:26.460000+00:00',\n",
       "  'ms_played': 207106,\n",
       "  'time_plus_ms': '2020-08-30 00:29:53.566000+00:00'}]"
      ]
     },
     "execution_count": 109,
     "metadata": {},
     "output_type": "execute_result"
    }
   ],
   "source": [
    "sorted_list"
   ]
  },
  {
   "cell_type": "code",
   "execution_count": 110,
   "metadata": {},
   "outputs": [],
   "source": [
    "hours_liste = []\n",
    "for i in sorted_list:\n",
    "    hours_liste.append(i['date'][0:13])"
   ]
  },
  {
   "cell_type": "code",
   "execution_count": 111,
   "metadata": {},
   "outputs": [],
   "source": [
    "count = defaultdict(int)\n",
    "\n",
    "for i in hours_liste:\n",
    "    count[i] += 1"
   ]
  },
  {
   "cell_type": "code",
   "execution_count": 112,
   "metadata": {},
   "outputs": [
    {
     "data": {
      "text/plain": [
       "defaultdict(int,\n",
       "            {'2020-08-30 23': 14,\n",
       "             '2020-08-30 20': 3,\n",
       "             '2020-08-30 17': 9,\n",
       "             '2020-08-30 16': 1,\n",
       "             '2020-08-30 13': 5,\n",
       "             '2020-08-30 01': 7,\n",
       "             '2020-08-30 00': 10})"
      ]
     },
     "execution_count": 112,
     "metadata": {},
     "output_type": "execute_result"
    }
   ],
   "source": [
    "count"
   ]
  },
  {
   "cell_type": "code",
   "execution_count": 54,
   "metadata": {},
   "outputs": [],
   "source": [
    "hours = []\n",
    "\n",
    "for i in range(24):\n",
    "    hour = \"{0:0=2d}\".format(i)\n",
    "    hours.append({'hour' : hour})"
   ]
  },
  {
   "cell_type": "code",
   "execution_count": 84,
   "metadata": {},
   "outputs": [
    {
     "name": "stdout",
     "output_type": "stream",
     "text": [
      "10\n",
      "7\n"
     ]
    }
   ],
   "source": [
    "print(count[hours[0]['hour']])\n",
    "print(count[hours[1]['hour']])"
   ]
  },
  {
   "cell_type": "code",
   "execution_count": 99,
   "metadata": {},
   "outputs": [],
   "source": [
    "keys = []\n",
    "for key, value in count.items() :\n",
    "    keys.append(key)\n",
    "\n",
    "values = []\n",
    "for key, value in count.items() :\n",
    "    values.append(value)"
   ]
  },
  {
   "cell_type": "code",
   "execution_count": 100,
   "metadata": {},
   "outputs": [
    {
     "data": {
      "text/plain": [
       "['23', '20', '17', '16', '13', '01', '00']"
      ]
     },
     "execution_count": 100,
     "metadata": {},
     "output_type": "execute_result"
    }
   ],
   "source": [
    "keys"
   ]
  },
  {
   "cell_type": "code",
   "execution_count": 101,
   "metadata": {},
   "outputs": [
    {
     "data": {
      "text/plain": [
       "[14, 3, 9, 1, 5, 7, 10]"
      ]
     },
     "execution_count": 101,
     "metadata": {},
     "output_type": "execute_result"
    }
   ],
   "source": [
    "values"
   ]
  },
  {
   "cell_type": "code",
   "execution_count": 102,
   "metadata": {},
   "outputs": [
    {
     "data": {
      "text/plain": [
       "{'23': 14, '20': 3, '17': 9, '16': 1, '13': 5, '01': 7, '00': 10}"
      ]
     },
     "execution_count": 102,
     "metadata": {},
     "output_type": "execute_result"
    }
   ],
   "source": [
    "count"
   ]
  },
  {
   "cell_type": "code",
   "execution_count": 105,
   "metadata": {},
   "outputs": [],
   "source": [
    "sorted_list = [{'hour': 23,\n",
    "  'number': 14},\n",
    " {'hour': 20,\n",
    "  'number': 3},\n",
    " {'hour': 17,\n",
    "  'number': 9}]\n",
    " "
   ]
  },
  {
   "cell_type": "code",
   "execution_count": 106,
   "metadata": {},
   "outputs": [
    {
     "data": {
      "text/plain": [
       "[{'hour': 23, 'number': 14},\n",
       " {'hour': 20, 'number': 3},\n",
       " {'hour': 17, 'number': 9}]"
      ]
     },
     "execution_count": 106,
     "metadata": {},
     "output_type": "execute_result"
    }
   ],
   "source": [
    "sorted_list"
   ]
  },
  {
   "cell_type": "code",
   "execution_count": null,
   "metadata": {},
   "outputs": [],
   "source": []
  }
 ],
 "metadata": {
  "kernelspec": {
   "display_name": "Python 3",
   "language": "python",
   "name": "python3"
  },
  "language_info": {
   "codemirror_mode": {
    "name": "ipython",
    "version": 3
   },
   "file_extension": ".py",
   "mimetype": "text/x-python",
   "name": "python",
   "nbconvert_exporter": "python",
   "pygments_lexer": "ipython3",
   "version": "3.7.3"
  }
 },
 "nbformat": 4,
 "nbformat_minor": 4
}
